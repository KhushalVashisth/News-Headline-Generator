{
 "cells": [
  {
   "cell_type": "code",
   "execution_count": 2,
   "id": "3b7090c3-573d-4b3c-a908-61138e9ef170",
   "metadata": {
    "tags": []
   },
   "outputs": [
    {
     "name": "stdout",
     "output_type": "stream",
     "text": [
      "News Headlines:\n",
      "1. News Today\n",
      "2. Newstrack with Rahul Kanwal\n",
      "3. To The Point\n",
      "4. India First\n",
      "5. 5ive Live\n",
      "6. First Up\n",
      "7. In Da Club\n",
      "8. Battle Cry\n",
      "9. World Today\n",
      "10. Jab We Met\n",
      "11. Campus Face Off with Rajdeep Sardesai\n",
      "12. Business Today\n"
     ]
    }
   ],
   "source": [
    "import requests\n",
    "from bs4 import BeautifulSoup\n",
    "\n",
    "def scrape_news_headlines(url):\n",
    "    try:\n",
    "        response = requests.get(url)\n",
    "        if response.status_code == 200:\n",
    "            soup = BeautifulSoup(response.text, 'html.parser')\n",
    "            headlines = soup.find_all('h2')  \n",
    "            return [headline.text.strip() for headline in headlines]\n",
    "        else:\n",
    "            print(\"Failed to fetch news headlines. Status code:\", response.status_code)\n",
    "            return None\n",
    "    except requests.exceptions.RequestException as e:\n",
    "        print(\"An error occurred while making the request:\", e)\n",
    "        return None\n",
    "\n",
    "def main():\n",
    "    url = \"https://www.indiatoday.in/livetv\" \n",
    "    headlines = scrape_news_headlines(url)\n",
    "    if headlines:\n",
    "        print(\"News Headlines:\")\n",
    "        for i, headline in enumerate(headlines, start=1):\n",
    "            print(f\"{i}. {headline}\")\n",
    "    else:\n",
    "        print(\"Failed to fetch news headlines.\")\n",
    "\n",
    "if __name__ == \"__main__\":\n",
    "    main()\n",
    "    "
   ]
  },
  {
   "cell_type": "code",
   "execution_count": null,
   "id": "16bc205a-4c69-4516-ac5d-783ad8087df3",
   "metadata": {},
   "outputs": [],
   "source": []
  }
 ],
 "metadata": {
  "kernelspec": {
   "display_name": "Python 3 (ipykernel)",
   "language": "python",
   "name": "python3"
  },
  "language_info": {
   "codemirror_mode": {
    "name": "ipython",
    "version": 3
   },
   "file_extension": ".py",
   "mimetype": "text/x-python",
   "name": "python",
   "nbconvert_exporter": "python",
   "pygments_lexer": "ipython3",
   "version": "3.11.3"
  }
 },
 "nbformat": 4,
 "nbformat_minor": 5
}
